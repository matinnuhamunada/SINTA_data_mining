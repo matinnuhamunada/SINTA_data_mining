{
 "cells": [
  {
   "cell_type": "code",
   "execution_count": 1,
   "id": "ae176369-8219-46d4-a4ff-1917d16a3975",
   "metadata": {},
   "outputs": [],
   "source": [
    "import pandas as pd\n",
    "import sinta_scraper as sinta\n",
    "import numpy as np\n",
    "\n",
    "# Import search_author module as it is not yet available in sinta_scraper\n",
    "import sys\n",
    "import os\n",
    "module_path = os.path.abspath(os.path.join('../scripts/'))\n",
    "if module_path not in sys.path:\n",
    "    sys.path.append(module_path)\n",
    "from author_search import search_author\n",
    "\n",
    "import ast"
   ]
  },
  {
   "cell_type": "code",
   "execution_count": 2,
   "id": "c528f3c8-4051-44c1-a297-6b6067eb4b92",
   "metadata": {},
   "outputs": [],
   "source": [
    "univ = [i.lower() for i in os.listdir('../data') if not i.startswith('.')]"
   ]
  },
  {
   "cell_type": "code",
   "execution_count": 3,
   "id": "3c3111d7-c065-4059-b921-39d3db43fa7d",
   "metadata": {},
   "outputs": [],
   "source": [
    "# get life sciences author from UGM\n",
    "## Set variables\n",
    "with open(f\"../data/{univ[0].upper()}/ugm_affil_information.txt\", \"r\", encoding = 'utf-8') as f:\n",
    "    d = ast.literal_eval(f.read())\n",
    "    \n",
    "affil_name = d['affil_name']\n",
    "affil_name_long = d['affil_name_long']\n",
    "affil_id = d['affil_id']\n",
    "dept_id = d['dept_id']"
   ]
  },
  {
   "cell_type": "code",
   "execution_count": 4,
   "id": "7fbbbb8f-e397-4d0c-be14-4651a47a4e40",
   "metadata": {},
   "outputs": [],
   "source": [
    "# get authors by dept_id\n",
    "SINTA = pd.DataFrame()\n",
    "for de in dept_id:\n",
    "    data = sinta.dept_authors(de, affil_id)\n",
    "    data = pd.DataFrame(data)\n",
    "    #print(de, data)\n",
    "    data.loc[:, 'department'] = de\n",
    "    SINTA = SINTA.append(data)\n",
    "#SINTA.to_csv(f'../tables/{affil_name}_bio_SINTA.csv')\n",
    "#SINTA"
   ]
  },
  {
   "cell_type": "code",
   "execution_count": 5,
   "id": "b7272075-9f22-44f7-9533-a517bbc71aa0",
   "metadata": {},
   "outputs": [],
   "source": [
    "# Load data in manual\n",
    "MANUAL = pd.read_csv(f'../data/{affil_name.upper()}/data_NIDN-versi-sinta.txt', index_col=0, dtype=str)\n",
    "#MANUAL"
   ]
  },
  {
   "cell_type": "code",
   "execution_count": 6,
   "id": "5e900515-6d17-419c-91de-54d67d052e80",
   "metadata": {},
   "outputs": [],
   "source": [
    "# Merge Manual and SINTA\n",
    "MERGE = pd.merge(MANUAL, SINTA, on=[\"name\", \"id\"], how='outer')\n",
    "MERGE.to_csv(f'../tables/{affil_name}_bio_MERGE.csv')\n",
    "#MERGE"
   ]
  },
  {
   "cell_type": "code",
   "execution_count": 7,
   "id": "d401d0c6-a502-445b-9975-9a989360baa1",
   "metadata": {},
   "outputs": [],
   "source": [
    "# Filter retired faculty member\n",
    "RETIRED = pd.read_csv(f'../data/{affil_name.upper()}/{affil_name}_bio_retired.txt')\n",
    "mask = MERGE.name.isin(RETIRED.Retired)\n",
    "ALL = MERGE[~mask]\n",
    "#ALL"
   ]
  },
  {
   "cell_type": "code",
   "execution_count": 8,
   "id": "624b26db-b8fc-42ca-b92e-43b07bdfd259",
   "metadata": {},
   "outputs": [],
   "source": [
    "# first clean?\n",
    "#ALL = ALL.sort_values(by=['name']).reset_index(drop=True)\n",
    "#ALL.to_csv(f'../data/{affil_name.upper()}/all.csv')\n",
    "#ALL"
   ]
  },
  {
   "cell_type": "code",
   "execution_count": 9,
   "id": "f407c1a9-12e1-4f42-a6d2-768e2aceb043",
   "metadata": {},
   "outputs": [
    {
     "name": "stdout",
     "output_type": "stream",
     "text": [
      "Aprilia Sufi Subiastuti\n",
      "Wiko Arif Wibowo\n",
      "Wiko Arif Wibowo not found in SINTA Database\n"
     ]
    },
    {
     "name": "stderr",
     "output_type": "stream",
     "text": [
      "/home/matinnu/anaconda3/envs/sintamining/lib/python3.9/site-packages/pandas/core/indexing.py:1817: SettingWithCopyWarning: \n",
      "A value is trying to be set on a copy of a slice from a DataFrame.\n",
      "Try using .loc[row_indexer,col_indexer] = value instead\n",
      "\n",
      "See the caveats in the documentation: https://pandas.pydata.org/pandas-docs/stable/user_guide/indexing.html#returning-a-view-versus-a-copy\n",
      "  self._setitem_single_column(loc, value, pi)\n"
     ]
    }
   ],
   "source": [
    "# Get Missing SINTA ID\n",
    "missing_SINTAID = ALL[pd.isnull(ALL.id)]\n",
    "nama = missing_SINTAID.name\n",
    "output_missing_SINTAID = pd.DataFrame()\n",
    "for i in nama:\n",
    "    print(i)\n",
    "    data = search_author(i)\n",
    "    if data != []:\n",
    "        data = pd.DataFrame(data)\n",
    "        data = data[data.affiliation == affil_name_long]\n",
    "        output_missing_SINTAID = output_missing_SINTAID.append(data)\n",
    "    else:\n",
    "        print(f'{i} not found in SINTA Database')\n",
    "#output_missing_SINTAID\n",
    "\n",
    "# Add missing SINTA id\n",
    "for i in ALL[ALL.id.isnull()].index:\n",
    "    x = ALL.loc[i, 'name'].upper()\n",
    "    if output_missing_SINTAID.name.isin([x]).any():\n",
    "        new_id = output_missing_SINTAID[output_missing_SINTAID.name.isin([x])].id\n",
    "        ALL.loc[i, 'id'] = new_id.values[0]"
   ]
  },
  {
   "cell_type": "code",
   "execution_count": 10,
   "id": "f4f3d2d8-174f-48e5-b5e0-98ea7dfba395",
   "metadata": {},
   "outputs": [
    {
     "name": "stdout",
     "output_type": "stream",
     "text": [
      "Wiko Arif Wibowo\n",
      "Wiko Arif Wibowo not found in SINTA Database\n",
      "Irfan Dwidya Prijambada\n",
      "Jaka Widada\n",
      "Desi Utami\n",
      "Sebastian Margino\n",
      "Ngadiman\n",
      "Chusnul Hanim\n",
      "Widya Asmara\n",
      "Siti Muslimah Widyastuti\n",
      "Donny Widianto\n",
      "Trini Susmiati\n"
     ]
    }
   ],
   "source": [
    "# Get Missing NIDN\n",
    "missing_NIDN = ALL[pd.isnull(ALL.NIDN)]\n",
    "nama = missing_NIDN.name\n",
    "output_missing_NIDN = pd.DataFrame()\n",
    "for i in nama:\n",
    "    print(i)\n",
    "    data = search_author(i)\n",
    "    if data != []:\n",
    "        data = pd.DataFrame(data)\n",
    "        data = data[data.affiliation == affil_name_long]\n",
    "        output_missing_NIDN = output_missing_NIDN.append(data)\n",
    "    else:\n",
    "        print(f'{i} not found in SINTA Database')\n",
    "output_missing_NIDN = output_missing_NIDN[output_missing_NIDN.id.isin(ALL.id)]\n",
    "#output_missing_NIDN\n",
    "\n",
    "# Add missing NIDN\n",
    "for i in ALL[ALL.NIDN.isnull()].index:\n",
    "    x = ALL.loc[i, 'name'].upper()\n",
    "    if output_missing_NIDN.name.isin([x]).any():\n",
    "        new_id = output_missing_NIDN[output_missing_NIDN.name.isin([x])].NIDN\n",
    "        ALL.loc[i, 'NIDN'] = new_id.values[0]"
   ]
  },
  {
   "cell_type": "code",
   "execution_count": 11,
   "id": "68bfb1d7-b095-48b9-9b10-e526788ccb86",
   "metadata": {},
   "outputs": [],
   "source": [
    "# Drop null and clean\n",
    "ALL = ALL[~ALL.id.isnull()]\n",
    "ALL = ALL.reset_index(drop = True)\n",
    "ALL.NIDN = [i.replace(' ','') for i in ALL.NIDN]\n",
    "ALL.to_csv(f'../tables/{affil_name}_bio_clean.csv')"
   ]
  },
  {
   "cell_type": "code",
   "execution_count": 12,
   "id": "25dd259a-7380-47fd-90ce-1e9538588d9e",
   "metadata": {},
   "outputs": [],
   "source": [
    "# get metadata from SINTA\n",
    "df = pd.read_csv(f'../tables/{affil_name}_bio_clean.csv', index_col=0, dtype=str)\n",
    "#sinta_get = sinta.authors(df.id)\n",
    "#df2 = pd.DataFrame(sinta_get)\n",
    "#df2.to_csv(f'../tables/{affil_name}_bio_clean_sinta.csv')\n",
    "df2 = pd.read_csv(f'../tables/{affil_name}_bio_clean_sinta.csv', index_col=0, dtype=str)\n",
    "df = df.merge(df2, left_on='id', right_on='id')#2.set_index('id', drop=False)\n",
    "df['Instansi'] = affil_name_long\n",
    "df.to_csv(f'../tables/{affil_name}_bio_ready.csv')"
   ]
  }
 ],
 "metadata": {
  "kernelspec": {
   "display_name": "Python 3 (ipykernel)",
   "language": "python",
   "name": "python3"
  },
  "language_info": {
   "codemirror_mode": {
    "name": "ipython",
    "version": 3
   },
   "file_extension": ".py",
   "mimetype": "text/x-python",
   "name": "python",
   "nbconvert_exporter": "python",
   "pygments_lexer": "ipython3",
   "version": "3.9.6"
  }
 },
 "nbformat": 4,
 "nbformat_minor": 5
}
