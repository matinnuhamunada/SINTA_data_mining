{
 "cells": [
  {
   "cell_type": "code",
   "execution_count": 15,
   "id": "ae176369-8219-46d4-a4ff-1917d16a3975",
   "metadata": {},
   "outputs": [],
   "source": [
    "import pycurl\n",
    "from io import BytesIO\n",
    "import bs4\n",
    "from bs4 import BeautifulSoup\n",
    "\n",
    "import pandas as pd"
   ]
  },
  {
   "cell_type": "code",
   "execution_count": 16,
   "id": "e5617943-cf5b-40fa-9445-d5d216fc4225",
   "metadata": {},
   "outputs": [],
   "source": [
    "def search(url):\n",
    "    buffer = BytesIO()\n",
    "    storage = BytesIO()\n",
    "    c = pycurl.Curl()\n",
    "    c.setopt(c.URL, url)\n",
    "    c.setopt(c.WRITEDATA, buffer)\n",
    "    c.perform()\n",
    "    c.close()\n",
    "    body = buffer.getvalue()\n",
    "    soup = BeautifulSoup(body, 'html.parser')\n",
    "    return soup\n",
    "\n",
    "def get_author_id(term):\n",
    "    # create empty df\n",
    "    result = pd.DataFrame(columns=['name', 'sinta_id', 'affiliation', 'NIDN', 'expertise'])\n",
    "    \n",
    "    url = 'https://sinta.ristekbrin.go.id/authors?q='+term.replace(' ','+')+'&view=&search=1&ag='\n",
    "    \n",
    "    # look only at science\n",
    "    #url = 'https://sinta.ristekbrin.go.id/authors?q='+term.replace(' ','+')+'&view=science&view=&search=1&ag='\n",
    "    \n",
    "    author_search = search(url)\n",
    "    \n",
    "    for num, i in enumerate(author_search.find_all('a', {\"class\":\"text-blue\"})): #get first item\n",
    "        #get name and sinta id\n",
    "        result.loc[num, 'name'] = i.contents[0]\n",
    "        result.loc[num, 'sinta_id'] =  i.attrs['href'].replace('/authors/detail/?id=','').replace('&view=overview','')\n",
    "        # get affiliation and NIDN\n",
    "        for x in i.find_next('dd'):\n",
    "            result.loc[num, 'affiliation'] = x.contents[0]\n",
    "            result.loc[num, 'NIDN'] = x.find_next('dd').contents[2].replace(' : ', '')\n",
    "        # Get expertise\n",
    "        expertise = [] # empty container\n",
    "        expertise1 = i.find_next('a', {'class':\"area-item-small\"}) # get first expertise\n",
    "        ctr = 0 # helper counter\n",
    "        while ctr < 3 and isinstance(expertise1, bs4.element.Tag): # loop until NoneType & max 3 expertise\n",
    "            expertise.append(expertise1.contents[0])\n",
    "            expertise1 = expertise1.find_next('a') # get next expertise\n",
    "            if expertise1['class'][0] == 'area-item-small': # if expertise feature, continue\n",
    "                ctr = ctr + 1\n",
    "            else: # if not expertise feature pass\n",
    "                ctr = 3     \n",
    "        result.loc[num, 'expertise'] = expertise\n",
    "    return result"
   ]
  },
  {
   "cell_type": "code",
   "execution_count": 25,
   "id": "84b64bb1-4336-4db9-a0be-1fbc6cfcac7a",
   "metadata": {},
   "outputs": [
    {
     "data": {
      "text/html": [
       "<div>\n",
       "<style scoped>\n",
       "    .dataframe tbody tr th:only-of-type {\n",
       "        vertical-align: middle;\n",
       "    }\n",
       "\n",
       "    .dataframe tbody tr th {\n",
       "        vertical-align: top;\n",
       "    }\n",
       "\n",
       "    .dataframe thead th {\n",
       "        text-align: right;\n",
       "    }\n",
       "</style>\n",
       "<table border=\"1\" class=\"dataframe\">\n",
       "  <thead>\n",
       "    <tr style=\"text-align: right;\">\n",
       "      <th></th>\n",
       "      <th>name</th>\n",
       "      <th>sinta_id</th>\n",
       "      <th>affiliation</th>\n",
       "      <th>NIDN</th>\n",
       "      <th>expertise</th>\n",
       "    </tr>\n",
       "  </thead>\n",
       "  <tbody>\n",
       "    <tr>\n",
       "      <th>0</th>\n",
       "      <td>INDRA LESMANA</td>\n",
       "      <td>6081151</td>\n",
       "      <td>Universitas Riau</td>\n",
       "      <td>0008038406</td>\n",
       "      <td>[Aquaculture, Fish Genetics and Reproduction B...</td>\n",
       "    </tr>\n",
       "    <tr>\n",
       "      <th>1</th>\n",
       "      <td>INDRA LESMANA</td>\n",
       "      <td>6023357</td>\n",
       "      <td>Universitas Gadjah Mada</td>\n",
       "      <td>1120170054</td>\n",
       "      <td>[Molecular Genetics]</td>\n",
       "    </tr>\n",
       "    <tr>\n",
       "      <th>2</th>\n",
       "      <td>SYAHMIRZA INDRA LESMANA</td>\n",
       "      <td>5989126</td>\n",
       "      <td>Universitas Esa Unggul</td>\n",
       "      <td>0307076801</td>\n",
       "      <td>[Sport Physiotherapy, Sport Sciences]</td>\n",
       "    </tr>\n",
       "  </tbody>\n",
       "</table>\n",
       "</div>"
      ],
      "text/plain": [
       "                      name sinta_id              affiliation        NIDN  \\\n",
       "0            INDRA LESMANA  6081151         Universitas Riau  0008038406   \n",
       "1            INDRA LESMANA  6023357  Universitas Gadjah Mada  1120170054   \n",
       "2  SYAHMIRZA INDRA LESMANA  5989126   Universitas Esa Unggul  0307076801   \n",
       "\n",
       "                                           expertise  \n",
       "0  [Aquaculture, Fish Genetics and Reproduction B...  \n",
       "1                               [Molecular Genetics]  \n",
       "2              [Sport Physiotherapy, Sport Sciences]  "
      ]
     },
     "execution_count": 25,
     "metadata": {},
     "output_type": "execute_result"
    }
   ],
   "source": [
    "data = get_author_id('indra lesmana')\n",
    "data"
   ]
  },
  {
   "cell_type": "code",
   "execution_count": 22,
   "id": "d337c98b-acd9-4451-82da-b6e03891a9a8",
   "metadata": {},
   "outputs": [],
   "source": [
    "import sinta_scraper as sinta"
   ]
  },
  {
   "cell_type": "code",
   "execution_count": 24,
   "id": "72d48c8e-fb7e-4bdd-b262-9b6fb5f6a6c9",
   "metadata": {},
   "outputs": [
    {
     "data": {
      "text/plain": [
       "{'id': '6023357',\n",
       " 'name': 'INDRA LESMANA',\n",
       " 'url': 'http://sinta.ristekbrin.go.id/authors/detail?id=6023357&view=overview',\n",
       " 'affiliation': {'id': '384',\n",
       "  'name': 'Universitas Gadjah Mada',\n",
       "  'url': 'http://sinta.ristekbrin.go.id/affiliations/detail/?id=384&view=overview'},\n",
       " 'department': 'Biologi Tropika',\n",
       " 'areas': ['Molecular Genetics'],\n",
       " 'score': {'overall': 2.44,\n",
       "  '3_years': 1.61,\n",
       "  'overall_v2': 229.0,\n",
       "  '3_years_v2': 124.0},\n",
       " 'rank': {'national': 31691,\n",
       "  '3_years_national': 31533,\n",
       "  'affiliation': 1317,\n",
       "  '3_years_affiliation': 1101},\n",
       " 'scopus': {'documents': 7,\n",
       "  'citations': 2,\n",
       "  'h-index': 1,\n",
       "  'i10-index': 0,\n",
       "  'g-index': 1,\n",
       "  'articles': 4,\n",
       "  'conferences': 3,\n",
       "  'others': 0,\n",
       "  'Q1': 1,\n",
       "  'Q2': 0,\n",
       "  'Q3': 2,\n",
       "  'Q4': 4,\n",
       "  'undefined': 0},\n",
       " 'scholar': {'documents': 4,\n",
       "  'citations': 1,\n",
       "  'h-index': 1,\n",
       "  'i10-index': 0,\n",
       "  'g-index': 1},\n",
       " 'wos': {'documents': 0,\n",
       "  'citations': None,\n",
       "  'h-index': None,\n",
       "  'i10-index': None,\n",
       "  'g-index': None},\n",
       " 'sinta': {'S0': 0,\n",
       "  'S1': 0,\n",
       "  'S2': 0,\n",
       "  'S3': 0,\n",
       "  'S4': 0,\n",
       "  'S5': 0,\n",
       "  'uncategorized': 4},\n",
       " 'books': 0,\n",
       " 'ipr': 1}"
      ]
     },
     "execution_count": 24,
     "metadata": {},
     "output_type": "execute_result"
    }
   ],
   "source": [
    "author = sinta.author(data.loc[1, 'sinta_id'])\n",
    "author"
   ]
  },
  {
   "cell_type": "code",
   "execution_count": 21,
   "id": "19e950c6-a7ce-490c-9348-d3bec302f31c",
   "metadata": {},
   "outputs": [],
   "source": [
    "! git mv 'result UGM_2.csv' 'figures/result UGM_2.csv'"
   ]
  },
  {
   "cell_type": "code",
   "execution_count": null,
   "id": "a70df8d2-8de9-485c-b807-a23f7a5396c8",
   "metadata": {},
   "outputs": [],
   "source": []
  }
 ],
 "metadata": {
  "kernelspec": {
   "display_name": "Python 3 (ipykernel)",
   "language": "python",
   "name": "python3"
  },
  "language_info": {
   "codemirror_mode": {
    "name": "ipython",
    "version": 3
   },
   "file_extension": ".py",
   "mimetype": "text/x-python",
   "name": "python",
   "nbconvert_exporter": "python",
   "pygments_lexer": "ipython3",
   "version": "3.9.6"
  }
 },
 "nbformat": 4,
 "nbformat_minor": 5
}
